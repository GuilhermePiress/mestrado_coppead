{
 "cells": [
  {
   "cell_type": "markdown",
   "id": "02ccb891",
   "metadata": {},
   "source": [
    "# Utilização do algoritmo TOPSIS"
   ]
  },
  {
   "cell_type": "code",
   "execution_count": 1,
   "id": "33bacc30",
   "metadata": {
    "ExecuteTime": {
     "end_time": "2023-03-07T01:12:12.391704Z",
     "start_time": "2023-03-07T01:12:12.367704Z"
    }
   },
   "outputs": [],
   "source": [
    "def topsis_equal_weights(dataframe, pos_cols, neg_cols ):\n",
    "    ''' O dataframe original tem que está no formato\n",
    "        onde a primeira coluna são os tickets e a segunda \n",
    "        os anos ou vice-versa'''\n",
    "    \n",
    "    \n",
    "    # Normaliza o dataframe por coluna\n",
    "    df_norm = dataframe.copy()\n",
    "    \n",
    "    ## Retira colunas de anos e ticket e normaliza cada uma\n",
    "    for col in df_norm.columns[2:]:\n",
    "        df_norm[col] = df_norm[col] / np.sqrt(np.sum(df_norm[col]**2))\n",
    "        \n",
    "    # Cria coluna de pesos sendo todas iguais    \n",
    "    weights = np.full((df_norm.iloc[:,2:].shape[1], 1), 1/df_norm.iloc[:,2:].shape[1])\n",
    "    \n",
    "    ## Multiplica a matriz normalizada pelos pesos\n",
    "    df_norm_w = df_norm.copy()\n",
    "    df_norm_w.iloc[:, 2:] =  df_norm_w.iloc[:, 2:]*weights.ravel()\n",
    "    \n",
    "    \n",
    "    # Best option\n",
    "    max_positive = np.max(df_norm_w[pos_cols], axis=0)\n",
    "    min_negative = np.min(df_norm_w[neg_cols], axis=0)\n",
    "\n",
    "    #Worst option\n",
    "    min_positive = np.min(df_norm_w[pos_cols], axis=0)\n",
    "    max_negative = np.max(df_norm_w[neg_cols], axis=0)\n",
    "    \n",
    "    # Calculate d_max\n",
    "    d_max_dif_pos = np.sum((df_norm_w[pos_cols] - max_positive)**2, axis =1)\n",
    "    d_max_dif_neg = np.sum((df_norm_w[neg_cols] - min_negative)**2, axis =1)\n",
    "    d_max = np.sqrt(d_max_dif_pos + d_max_dif_neg)\n",
    "\n",
    "    # Calculate d_min\n",
    "    d_min_dif_pos = np.sum((df_norm_w[pos_cols] - min_positive)**2, axis =1)\n",
    "    d_min_dif_neg = np.sum((df_norm_w[neg_cols] - max_negative)**2, axis =1)\n",
    "    d_min = np.sqrt(d_min_dif_pos + d_min_dif_neg)\n",
    "    \n",
    "    # Dataframe final\n",
    "    df_final = dataframe.iloc[:,:2]\n",
    "    df_final['S*'] = d_max\n",
    "    df_final['S-'] = d_min\n",
    "    df_final['C*'] = d_min/(d_max+d_min)\n",
    "    \n",
    "    # Agroupa por tickets\n",
    "    df_grouped = df_final.groupby('ticket')[['S*', 'S-', 'C*']].mean().reset_index()\n",
    "    df_grouped = df_grouped.sort_values(by=\"C*\", ascending=False).reset_index(drop = True)\n",
    "    \n",
    "    return df_grouped"
   ]
  },
  {
   "cell_type": "code",
   "execution_count": null,
   "id": "69a0f787",
   "metadata": {},
   "outputs": [],
   "source": [
    "def topsis(dataframe, pos_cols, neg_cols, pesos_df):\n",
    "    ''' O dataframe original tem que está no formato\n",
    "        onde a primeira coluna são os tickets e a segunda \n",
    "        os anos ou vice-versa'''\n",
    "    # Normaliza o dataframe por coluna\n",
    "    df_norm = dataframe.copy()\n",
    "    \n",
    "    ## Retira colunas de anos e ticket e normaliza cada uma\n",
    "    for col in df_norm.columns[2:]:\n",
    "        df_norm[col] = df_norm[col] / np.sqrt(np.sum(df_norm[col]**2))\n",
    "        \n",
    "    # Cria coluna de pesos sendo todas iguais    \n",
    "    weights = pesos_df.transpose().values\n",
    "    \n",
    "    ## Multiplica a matriz normalizada pelos pesos\n",
    "    df_norm_w = df_norm.copy()\n",
    "    df_norm_w.iloc[:, 2:] =  df_norm_w.iloc[:, 2:]*weights.ravel()\n",
    "    \n",
    "    \n",
    "    # Best option\n",
    "    max_positive = np.max(df_norm_w[pos_cols], axis=0)\n",
    "    min_negative = np.min(df_norm_w[neg_cols], axis=0)\n",
    "\n",
    "    #Worst option\n",
    "    min_positive = np.min(df_norm_w[pos_cols], axis=0)\n",
    "    max_negative = np.max(df_norm_w[neg_cols], axis=0)\n",
    "    \n",
    "    # Calculate d_max\n",
    "    d_max_dif_pos = np.sum((df_norm_w[pos_cols] - max_positive)**2, axis =1)\n",
    "    d_max_dif_neg = np.sum((df_norm_w[neg_cols] - min_negative)**2, axis =1)\n",
    "    d_max = np.sqrt(d_max_dif_pos + d_max_dif_neg)\n",
    "\n",
    "    # Calculate d_min\n",
    "    d_min_dif_pos = np.sum((df_norm_w[pos_cols] - min_positive)**2, axis =1)\n",
    "    d_min_dif_neg = np.sum((df_norm_w[neg_cols] - max_negative)**2, axis =1)\n",
    "    d_min = np.sqrt(d_min_dif_pos + d_min_dif_neg)\n",
    "    \n",
    "    # Dataframe final\n",
    "    df_final = dataframe.iloc[:,:2]\n",
    "    df_final['S*'] = d_max\n",
    "    df_final['S-'] = d_min\n",
    "    df_final['C*'] = d_min/(d_max+d_min)\n",
    "    \n",
    "    # Agroupa por tickets\n",
    "    df_grouped = df_final.groupby('ticket')[['S*', 'S-', 'C*']].mean().reset_index()\n",
    "    df_grouped = df_grouped.sort_values(by=\"C*\", ascending=False).reset_index(drop = True)\n",
    "    \n",
    "    return df_grouped"
   ]
  },
  {
   "cell_type": "markdown",
   "id": "83e93d11",
   "metadata": {},
   "source": [
    "# Calculate topsis para acoes"
   ]
  },
  {
   "cell_type": "code",
   "execution_count": null,
   "id": "965637f3",
   "metadata": {},
   "outputs": [],
   "source": [
    "import pandas as pd\n",
    "import numpy as np\n",
    "pd.set_option('display.max_columns', None)\n",
    "pd.set_option('display.max_rows', None)\n",
    "pd.set_option('display.width', None)\n",
    "pd.set_option('display.max_colwidth', None)\n",
    "\n",
    "w_acoes = pd.read_csv(\"acoes_b3_weights.csv\")\n",
    "df_acoes = pd.read_csv(\"acoes_b3_stinvest_tratado.csv\")"
   ]
  },
  {
   "cell_type": "code",
   "execution_count": null,
   "id": "a205615d",
   "metadata": {},
   "outputs": [],
   "source": [
    "pos_cols = ['dy%', 'vpa', \n",
    "            'lpa', 'patrimonio_ativo', \n",
    "            'liquidezcorrente', 'margembruta%', \n",
    "            'margemebitda%', 'margemebit%', \n",
    "            'margemliquida%', 'roe%', \n",
    "            'roa%', 'roic%', \n",
    "            'giro_ativos','receitas_cagr5%', \n",
    "            'lucros_cagr5%']\n",
    "\n",
    "neg_cols = ['p_l', 'peg_Ratio', \n",
    "            'p_vp', 'ev_ebitda',\n",
    "            'ev_ebit', 'p_ebita', \n",
    "            'p_ebit', 'p_ativo', \n",
    "            'p_sr','p_capitlgiro', \n",
    "            'p_ativocirculante', 'dividaliquida_patrimonioliquido',\n",
    "            'dividaliquida_ebitda', 'dividaliquida_ebit',\n",
    "            'passivo_ativo']"
   ]
  },
  {
   "cell_type": "code",
   "execution_count": null,
   "id": "eecf97d2",
   "metadata": {},
   "outputs": [],
   "source": [
    "best_acoes = topsis(df_acoes, pos_cols, neg_cols, w_acoes)\n",
    "best_acoes.to_csv('melhores_acoes_topsis.csv', index=False)"
   ]
  },
  {
   "cell_type": "markdown",
   "id": "443893bb",
   "metadata": {},
   "source": [
    "# Calculate topsis para bdrs"
   ]
  },
  {
   "cell_type": "code",
   "execution_count": null,
   "id": "951a080a",
   "metadata": {},
   "outputs": [],
   "source": [
    "w_bdrs = pd.read_csv(\"bdrs_weights.csv\")\n",
    "df_bdrs = pd.read_csv(\"bdrs_b3_stinvest_tratado.csv\")\n",
    "\n",
    "pos_cols = ['dy%', 'vpa', \n",
    "            'lpa', 'patrimonio_ativo', \n",
    "            'liquidezcorrente', 'margembruta%', \n",
    "            'margemebitda%', 'margemebit%', \n",
    "            'margemliquida%', 'roe%', \n",
    "            'roa%', 'roic%', \n",
    "            'giro_ativos','receitas_cagr5%', \n",
    "            'lucros_cagr5%']\n",
    "\n",
    "neg_cols = ['p_l', 'peg_Ratio', \n",
    "            'p_vp', 'ev_ebitda',\n",
    "            'ev_ebit', 'p_ebita', \n",
    "            'p_ebit', 'p_ativo', \n",
    "            'p_sr','p_capitlgiro', \n",
    "            'p_ativocirculante', 'dividaliquida_patrimonioliquido',\n",
    "            'dividaliquida_ebitda', 'dividaliquida_ebit',\n",
    "            'passivo_ativo']\n",
    "\n",
    "best_bdrs = topsis(df_bdrs, pos_cols, neg_cols, w_bdrs)\n",
    "best_bdrs.to_csv('melhores_acoes_topsis.csv', index=False)"
   ]
  },
  {
   "cell_type": "markdown",
   "id": "2f5023da",
   "metadata": {},
   "source": [
    "# Calculate topsis para FIIs"
   ]
  },
  {
   "cell_type": "code",
   "execution_count": null,
   "id": "f712451d",
   "metadata": {},
   "outputs": [],
   "source": [
    "w_fiis = pd.read_csv(\"FII_weights.csv\")\n",
    "df_fiis = pd.read_csv(\"FII_b3_stinvest_tratado.csv\")\n",
    "\n",
    "pos_cols = ['dy%', 'vpa', \n",
    "            'lpa', 'patrimonio_ativo', \n",
    "            'liquidezcorrente', 'margembruta%', \n",
    "            'margemebitda%', 'margemebit%', \n",
    "            'margemliquida%', 'roe%', \n",
    "            'roa%', 'roic%', \n",
    "            'giro_ativos','receitas_cagr5%', \n",
    "            'lucros_cagr5%']\n",
    "\n",
    "neg_cols = ['p_l', 'peg_Ratio', \n",
    "            'p_vp', 'ev_ebitda',\n",
    "            'ev_ebit', 'p_ebita', \n",
    "            'p_ebit', 'p_ativo', \n",
    "            'p_sr','p_capitlgiro', \n",
    "            'p_ativocirculante', 'dividaliquida_patrimonioliquido',\n",
    "            'dividaliquida_ebitda', 'dividaliquida_ebit',\n",
    "            'passivo_ativo']\n",
    "\n",
    "best_fiis = topsis(df_fiis, pos_cols, neg_cols, w_fiis)\n",
    "best_fiis.to_csv('melhores_acoes_topsis.csv', index=False)"
   ]
  }
 ],
 "metadata": {
  "kernelspec": {
   "display_name": "Python 3 (ipykernel)",
   "language": "python",
   "name": "python3"
  },
  "language_info": {
   "codemirror_mode": {
    "name": "ipython",
    "version": 3
   },
   "file_extension": ".py",
   "mimetype": "text/x-python",
   "name": "python",
   "nbconvert_exporter": "python",
   "pygments_lexer": "ipython3",
   "version": "3.10.1"
  },
  "toc": {
   "base_numbering": 1,
   "nav_menu": {},
   "number_sections": true,
   "sideBar": true,
   "skip_h1_title": false,
   "title_cell": "Table of Contents",
   "title_sidebar": "Contents",
   "toc_cell": false,
   "toc_position": {},
   "toc_section_display": true,
   "toc_window_display": true
  }
 },
 "nbformat": 4,
 "nbformat_minor": 5
}

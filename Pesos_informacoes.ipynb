{
 "cells": [
  {
   "cell_type": "markdown",
   "id": "02ccb891",
   "metadata": {},
   "source": [
    "# Formulação do algoritmo Information entropy\n"
   ]
  },
  {
   "cell_type": "code",
   "execution_count": null,
   "id": "68c73c5b",
   "metadata": {},
   "outputs": [],
   "source": [
    "# Código desenvolvido\n",
    "def calculate_weights(dataframe):\n",
    "    \n",
    "    # Seleciona as colunas que tem os indicadores\n",
    "    df = dataframe.iloc[:,2:]\n",
    "    \n",
    "    # Cria dataframe vazio\n",
    "    df_final = pd.DataFrame()\n",
    "    \n",
    "    # Calcula entropia para cada coluna\n",
    "    for c in df.columns:\n",
    "        \n",
    "        ## Pega os limites min e max das bins\n",
    "        value_min = df[c].min()\n",
    "        value_max = df[c].max()\n",
    "        \n",
    "        ## Pega as contagens de cada bin\n",
    "        ## Calcula probabilidade de cada bin\n",
    "        prob_bins = np.histogram(df[c], bins=20, range=[value_min, value_max])[0] / len(df[c])\n",
    "        \n",
    "        ## Calcula o log de cada probabilidade\n",
    "        log_bins = np.log(prob_bins)\n",
    "        \n",
    "        ## Converte todos os log 'inf' para zero\n",
    "        log_bins[np.isinf(log_bins)] = 0\n",
    "        \n",
    "        ## Calcula entropia final\n",
    "        entropy = -np.sum(prob_bins*log_bins)\n",
    "        \n",
    "        ## Cria objeto Series com o nome da coluna e o valor de entropia\n",
    "        s = pd.Series(data=[entropy], name=c)\n",
    "        \n",
    "        ## Salva valor em um dataframe\n",
    "        df_final = pd.concat([df_final, s], axis=1)\n",
    "        \n",
    "    # Normaliza cada elemento\n",
    "    df_final.iloc[0] = df_final.iloc[0] / df_final.iloc[0].sum()\n",
    "     \n",
    "    return df_final"
   ]
  },
  {
   "cell_type": "markdown",
   "id": "a645ac69",
   "metadata": {},
   "source": [
    "# Calcula os pesos das ações na B3"
   ]
  },
  {
   "cell_type": "code",
   "execution_count": null,
   "id": "357d3498",
   "metadata": {},
   "outputs": [],
   "source": [
    "import pandas as pd\n",
    "import numpy as np\n",
    "pd.set_option('display.max_columns', None)\n",
    "pd.set_option('display.max_rows', None)\n",
    "pd.set_option('display.width', None)\n",
    "pd.set_option('display.max_colwidth', None)\n",
    "\n",
    "df_acoes = pd.read_csv(\"acoes_b3_stinvest_tratado.csv\")\n",
    "df_acoes.head()"
   ]
  },
  {
   "cell_type": "code",
   "execution_count": null,
   "id": "12797e6f",
   "metadata": {},
   "outputs": [],
   "source": [
    "calcula_pesos = calculate_weights(df_acoes)"
   ]
  },
  {
   "cell_type": "code",
   "execution_count": null,
   "id": "47dfed41",
   "metadata": {},
   "outputs": [],
   "source": [
    "calcula_pesos.to_csv('acoes_b3_weights.csv', index=False)"
   ]
  },
  {
   "cell_type": "markdown",
   "id": "239f2c7e",
   "metadata": {},
   "source": [
    "# Calcula os pesos dos bdrs"
   ]
  },
  {
   "cell_type": "code",
   "execution_count": null,
   "id": "cd16a57f",
   "metadata": {},
   "outputs": [],
   "source": [
    "import pandas as pd\n",
    "import numpy as np\n",
    "pd.set_option('display.max_columns', None)\n",
    "pd.set_option('display.max_rows', None)\n",
    "pd.set_option('display.width', None)\n",
    "pd.set_option('display.max_colwidth', None)\n",
    "\n",
    "df_bdrs = pd.read_csv(\"bdrs_b3_stinvest_tratado.csv\")\n",
    "df_bdrs.head()"
   ]
  },
  {
   "cell_type": "code",
   "execution_count": null,
   "id": "fb11f830",
   "metadata": {},
   "outputs": [],
   "source": [
    "calcula_pesos = calculate_weights(df_bdrs)"
   ]
  },
  {
   "cell_type": "code",
   "execution_count": null,
   "id": "e3a9bc52",
   "metadata": {},
   "outputs": [],
   "source": [
    "calcula_pesos.to_csv('bdrs_weights.csv', index=False)"
   ]
  },
  {
   "cell_type": "markdown",
   "id": "97aefe40",
   "metadata": {},
   "source": [
    "# Calcula os pesos dos FIIs"
   ]
  },
  {
   "cell_type": "code",
   "execution_count": null,
   "id": "eae4b134",
   "metadata": {},
   "outputs": [],
   "source": [
    "import pandas as pd\n",
    "import numpy as np\n",
    "pd.set_option('display.max_columns', None)\n",
    "pd.set_option('display.max_rows', None)\n",
    "pd.set_option('display.width', None)\n",
    "pd.set_option('display.max_colwidth', None)\n",
    "\n",
    "df_fiis = pd.read_csv(\"FII_b3_stinvest_tratado.csv\")\n",
    "df_fiis.head()"
   ]
  },
  {
   "cell_type": "code",
   "execution_count": null,
   "id": "e50678f7",
   "metadata": {},
   "outputs": [],
   "source": [
    "calcula_pesos = calculate_weights(df_fiis)"
   ]
  },
  {
   "cell_type": "code",
   "execution_count": null,
   "id": "30eaf985",
   "metadata": {},
   "outputs": [],
   "source": [
    "calcula_pesos.to_csv('FII_weights.csv', index=False)"
   ]
  }
 ],
 "metadata": {
  "kernelspec": {
   "display_name": "Python 3 (ipykernel)",
   "language": "python",
   "name": "python3"
  },
  "language_info": {
   "codemirror_mode": {
    "name": "ipython",
    "version": 3
   },
   "file_extension": ".py",
   "mimetype": "text/x-python",
   "name": "python",
   "nbconvert_exporter": "python",
   "pygments_lexer": "ipython3",
   "version": "3.10.1"
  },
  "toc": {
   "base_numbering": 1,
   "nav_menu": {},
   "number_sections": true,
   "sideBar": true,
   "skip_h1_title": false,
   "title_cell": "Table of Contents",
   "title_sidebar": "Contents",
   "toc_cell": false,
   "toc_position": {
    "height": "calc(100% - 180px)",
    "left": "10px",
    "top": "150px",
    "width": "384px"
   },
   "toc_section_display": true,
   "toc_window_display": true
  }
 },
 "nbformat": 4,
 "nbformat_minor": 5
}
